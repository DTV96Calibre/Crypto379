{
 "cells": [
  {
   "cell_type": "markdown",
   "metadata": {},
   "source": [
    "# Problem 1\n",
    "To find the ciphertext that 'abcd' maps to, convert it into a 2x2 matrix of integers, A, and do matrix multiplication with the key. Then convert the result into text.\n",
    "$$ \\begin{bmatrix}\n",
    "        0 & 1\\\\\n",
    "        2 & 3\n",
    "    \\end{bmatrix}\n",
    "    \\begin{bmatrix}\n",
    "        1 & 2\\\\\n",
    "        3 & 4\n",
    "    \\end{bmatrix}\n",
    "    =\n",
    "    \\begin{bmatrix}\n",
    "        3 & 4\\\\\n",
    "        11 & 16\n",
    "    \\end{bmatrix}\n",
    "    \\Rightarrow\n",
    "    DELQ\n",
    "$$\n",
    "We then use a system of equations to find another matrix that maps to\n",
    "$\n",
    "\\begin{bmatrix}\n",
    "        3 & 4\\\\\n",
    "        11 & 16\n",
    "\\end{bmatrix}\n",
    "$\n",
    ". \n",
    "$$ \\begin{bmatrix}\n",
    "        x_1 & x_2\\\\\n",
    "        x_3 & x_4\n",
    "    \\end{bmatrix}\n",
    "    \\begin{bmatrix}\n",
    "        1 & 2\\\\\n",
    "        3 & 4\n",
    "    \\end{bmatrix}\n",
    "    =\n",
    "    \\begin{bmatrix}\n",
    "        3 & 4\\\\\n",
    "        11 & 16\n",
    "    \\end{bmatrix}\n",
    "    \\Rightarrow\n",
    "    DELQ\n",
    "$$\n",
    "$\n",
    "x_1 + 3x_2 = 29\\\\\n",
    "2x_1 + 4x_2 = 30\\\\\n",
    "x_3 + 3x_4 = 37\\\\\n",
    "2x_3 + 4x_4 = 42\\\\\n",
    "\\Rightarrow \\\\\n",
    "x_1 = 13\\\\x_2 = 14\\\\x_3 = 15\\\\x_4 = 16\n",
    "$\n",
    "\n",
    "Which maps to the string 'nopq'. This shows that 'abcd' and 'nopq' map to the same ciphertext, 'DELQ'"
   ]
  },
  {
   "cell_type": "markdown",
   "metadata": {},
   "source": [
    "# Problem 2"
   ]
  },
  {
   "cell_type": "markdown",
   "metadata": {},
   "source": [
    "# Problem 3\n",
    "Using $x_{n+3}=c_{0}x_{n}+c_{1}x_{n+1}+c_{2}x_{n+2}$ we can solve for $c_0,c_1,c_2$ and find 1, 0 and 1. We can then calculate our next 4 elements to be 1, 0, 0, and 1."
   ]
  },
  {
   "cell_type": "markdown",
   "metadata": {},
   "source": []
  },
  {
   "cell_type": "code",
   "execution_count": null,
   "metadata": {
    "collapsed": true
   },
   "outputs": [],
   "source": []
  }
 ],
 "metadata": {
  "kernelspec": {
   "display_name": "Python 3",
   "language": "python",
   "name": "python3"
  },
  "language_info": {
   "codemirror_mode": {
    "name": "ipython",
    "version": 3
   },
   "file_extension": ".py",
   "mimetype": "text/x-python",
   "name": "python",
   "nbconvert_exporter": "python",
   "pygments_lexer": "ipython3",
   "version": "3.6.3"
  }
 },
 "nbformat": 4,
 "nbformat_minor": 2
}
